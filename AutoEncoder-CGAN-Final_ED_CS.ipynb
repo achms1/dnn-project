{
 "cells": [
  {
   "cell_type": "code",
   "execution_count": 1,
   "metadata": {},
   "outputs": [
    {
     "name": "stderr",
     "output_type": "stream",
     "text": [
      "Using TensorFlow backend.\n",
      "C:\\Users\\machy\\anaconda3\\lib\\site-packages\\tensorflow\\python\\framework\\dtypes.py:526: FutureWarning: Passing (type, 1) or '1type' as a synonym of type is deprecated; in a future version of numpy, it will be understood as (type, (1,)) / '(1,)type'.\n",
      "  _np_qint8 = np.dtype([(\"qint8\", np.int8, 1)])\n",
      "C:\\Users\\machy\\anaconda3\\lib\\site-packages\\tensorflow\\python\\framework\\dtypes.py:527: FutureWarning: Passing (type, 1) or '1type' as a synonym of type is deprecated; in a future version of numpy, it will be understood as (type, (1,)) / '(1,)type'.\n",
      "  _np_quint8 = np.dtype([(\"quint8\", np.uint8, 1)])\n",
      "C:\\Users\\machy\\anaconda3\\lib\\site-packages\\tensorflow\\python\\framework\\dtypes.py:528: FutureWarning: Passing (type, 1) or '1type' as a synonym of type is deprecated; in a future version of numpy, it will be understood as (type, (1,)) / '(1,)type'.\n",
      "  _np_qint16 = np.dtype([(\"qint16\", np.int16, 1)])\n",
      "C:\\Users\\machy\\anaconda3\\lib\\site-packages\\tensorflow\\python\\framework\\dtypes.py:529: FutureWarning: Passing (type, 1) or '1type' as a synonym of type is deprecated; in a future version of numpy, it will be understood as (type, (1,)) / '(1,)type'.\n",
      "  _np_quint16 = np.dtype([(\"quint16\", np.uint16, 1)])\n",
      "C:\\Users\\machy\\anaconda3\\lib\\site-packages\\tensorflow\\python\\framework\\dtypes.py:530: FutureWarning: Passing (type, 1) or '1type' as a synonym of type is deprecated; in a future version of numpy, it will be understood as (type, (1,)) / '(1,)type'.\n",
      "  _np_qint32 = np.dtype([(\"qint32\", np.int32, 1)])\n",
      "C:\\Users\\machy\\anaconda3\\lib\\site-packages\\tensorflow\\python\\framework\\dtypes.py:535: FutureWarning: Passing (type, 1) or '1type' as a synonym of type is deprecated; in a future version of numpy, it will be understood as (type, (1,)) / '(1,)type'.\n",
      "  np_resource = np.dtype([(\"resource\", np.ubyte, 1)])\n"
     ]
    }
   ],
   "source": [
    "import numpy as np\n",
    "from keras.layers import Input, Conv2D, MaxPooling2D, UpSampling2D\n",
    "from keras.models import Model\n",
    "from keras.datasets import mnist\n",
    "import tensorflow as tf\n",
    "from tensorflow import keras\n",
    "import matplotlib.pyplot as plt\n",
    "%matplotlib inline"
   ]
  },
  {
   "cell_type": "code",
   "execution_count": 2,
   "metadata": {},
   "outputs": [],
   "source": [
    "fashion_mnist = keras.datasets.fashion_mnist\n",
    "(X_train,_),(X_test,_) = fashion_mnist.load_data()"
   ]
  },
  {
   "cell_type": "code",
   "execution_count": 3,
   "metadata": {},
   "outputs": [],
   "source": [
    "# Prepare datasets\n",
    "# This step contains normalization and reshaping of input.\n",
    "# For output, it is important to change number to one-hot vector. \n",
    "X_train = X_train.astype('float32') / 255\n",
    "#X_train = X_train.reshape(X_train.shape[0], 1, 28, 28)\n",
    "X_test = X_test.astype('float32') / 255\n",
    "#X_test = X_test.reshape(X_test.shape[0], 1, 28, 28)\n",
    "X_train = np.reshape(X_train, (-1, 28, 28, 1))\n",
    "X_test = np.reshape(X_test, (-1, 28, 28, 1))\n",
    "#y_train = np_utils.to_categorical(y_train, 10)\n",
    "#y_test = np_utils.to_categorical(y_test, 10)"
   ]
  },
  {
   "cell_type": "code",
   "execution_count": 4,
   "metadata": {},
   "outputs": [
    {
     "name": "stdout",
     "output_type": "stream",
     "text": [
      "(60000, 28, 28, 1) (10000, 28, 28, 1)\n"
     ]
    }
   ],
   "source": [
    "print(X_train.shape, X_test.shape)"
   ]
  },
  {
   "cell_type": "code",
   "execution_count": 5,
   "metadata": {},
   "outputs": [
    {
     "name": "stdout",
     "output_type": "stream",
     "text": [
      "WARNING:tensorflow:From C:\\Users\\machy\\anaconda3\\lib\\site-packages\\tensorflow\\python\\ops\\resource_variable_ops.py:435: colocate_with (from tensorflow.python.framework.ops) is deprecated and will be removed in a future version.\n",
      "Instructions for updating:\n",
      "Colocations handled automatically by placer.\n"
     ]
    }
   ],
   "source": [
    "input_img = Input(shape=(28,28,1))\n",
    "x = Conv2D(16,(3,3), activation='relu', padding='same')(input_img)\n",
    "x = MaxPooling2D((2,2), padding='same')(x)\n",
    "x = Conv2D(8,(3,3), activation='relu', padding='same')(x)\n",
    "x = MaxPooling2D((2,2), padding='same')(x)\n",
    "x = Conv2D(8,(3,3), activation='relu', padding='same')(x)\n",
    "encoded = MaxPooling2D((2,2), padding='same', name='encoder')(x)\n",
    "\n",
    "x = Conv2D(8, (3, 3), activation='relu', padding='same')(encoded)\n",
    "x = UpSampling2D((2, 2))(x)\n",
    "x = Conv2D(8, (3, 3), activation='relu', padding='same')(x)\n",
    "x = UpSampling2D((2, 2))(x)\n",
    "x = Conv2D(16, (3, 3), activation='relu')(x)\n",
    "x = UpSampling2D((2, 2))(x)\n",
    "decoded = Conv2D(1, (3, 3), activation='sigmoid', padding='same')(x)\n",
    "\n",
    "autoencoder = Model(input_img, decoded)\n",
    "autoencoder.compile(optimizer='adam', loss='mse')"
   ]
  },
  {
   "cell_type": "code",
   "execution_count": 6,
   "metadata": {},
   "outputs": [],
   "source": [
    "# from tensorflow.keras.preprocessing.image import ImageDataGenerator\n",
    "\n",
    "# train_datagen = ImageDataGenerator(\n",
    "#     rescale=1./255,\n",
    "#     shear_range=0.2,\n",
    "#     zoom_range=0.2,\n",
    "#     horizontal_flip=True)\n",
    "\n",
    "# test_datagen = ImageDataGenerator(rescale=1./255)\n",
    "\n",
    "# train_generator = train_datagen.flow_from_directory(\n",
    "#     'dataset/fashionmnist/FashionMNIST',\n",
    "#     target_size=(64, 64),\n",
    "#     batch_size=32,\n",
    "#     class_mode='binary')"
   ]
  },
  {
   "cell_type": "code",
   "execution_count": 7,
   "metadata": {},
   "outputs": [],
   "source": [
    "#Reshape((224,224,3), input_shape=(160,320,3)\n",
    "#autoencoder.fit(X_train, X_train, epochs=2, batch_size=32, callbacks=None )"
   ]
  },
  {
   "cell_type": "code",
   "execution_count": 8,
   "metadata": {},
   "outputs": [],
   "source": [
    "#autoencoder.save('autoencoder.h5')\n",
    "autoencoder.load_weights('autoencoder.h5')"
   ]
  },
  {
   "cell_type": "code",
   "execution_count": 9,
   "metadata": {},
   "outputs": [
    {
     "name": "stdout",
     "output_type": "stream",
     "text": [
      "Model: \"model_1\"\n",
      "_________________________________________________________________\n",
      "Layer (type)                 Output Shape              Param #   \n",
      "=================================================================\n",
      "input_1 (InputLayer)         (None, 28, 28, 1)         0         \n",
      "_________________________________________________________________\n",
      "conv2d_1 (Conv2D)            (None, 28, 28, 16)        160       \n",
      "_________________________________________________________________\n",
      "max_pooling2d_1 (MaxPooling2 (None, 14, 14, 16)        0         \n",
      "_________________________________________________________________\n",
      "conv2d_2 (Conv2D)            (None, 14, 14, 8)         1160      \n",
      "_________________________________________________________________\n",
      "max_pooling2d_2 (MaxPooling2 (None, 7, 7, 8)           0         \n",
      "_________________________________________________________________\n",
      "conv2d_3 (Conv2D)            (None, 7, 7, 8)           584       \n",
      "_________________________________________________________________\n",
      "encoder (MaxPooling2D)       (None, 4, 4, 8)           0         \n",
      "_________________________________________________________________\n",
      "conv2d_4 (Conv2D)            (None, 4, 4, 8)           584       \n",
      "_________________________________________________________________\n",
      "up_sampling2d_1 (UpSampling2 (None, 8, 8, 8)           0         \n",
      "_________________________________________________________________\n",
      "conv2d_5 (Conv2D)            (None, 8, 8, 8)           584       \n",
      "_________________________________________________________________\n",
      "up_sampling2d_2 (UpSampling2 (None, 16, 16, 8)         0         \n",
      "_________________________________________________________________\n",
      "conv2d_6 (Conv2D)            (None, 14, 14, 16)        1168      \n",
      "_________________________________________________________________\n",
      "up_sampling2d_3 (UpSampling2 (None, 28, 28, 16)        0         \n",
      "_________________________________________________________________\n",
      "conv2d_7 (Conv2D)            (None, 28, 28, 1)         145       \n",
      "=================================================================\n",
      "Total params: 4,385\n",
      "Trainable params: 4,385\n",
      "Non-trainable params: 0\n",
      "_________________________________________________________________\n"
     ]
    }
   ],
   "source": [
    "autoencoder.summary()"
   ]
  },
  {
   "cell_type": "code",
   "execution_count": 10,
   "metadata": {},
   "outputs": [],
   "source": [
    "encoder = Model(inputs=autoencoder.input, outputs=autoencoder.get_layer('encoder').output)"
   ]
  },
  {
   "cell_type": "code",
   "execution_count": 11,
   "metadata": {},
   "outputs": [],
   "source": [
    "#encoder.save('encoder.h5')"
   ]
  },
  {
   "cell_type": "code",
   "execution_count": 12,
   "metadata": {},
   "outputs": [],
   "source": [
    "#query = X_test[11]"
   ]
  },
  {
   "cell_type": "code",
   "execution_count": 13,
   "metadata": {},
   "outputs": [],
   "source": [
    "#plt.imshow(query.reshape(28,28), cmap='gray')"
   ]
  },
  {
   "cell_type": "code",
   "execution_count": 14,
   "metadata": {},
   "outputs": [],
   "source": [
    "#X_test.shape"
   ]
  },
  {
   "cell_type": "code",
   "execution_count": 15,
   "metadata": {},
   "outputs": [
    {
     "name": "stdout",
     "output_type": "stream",
     "text": [
      "Found 500 images belonging to 10 classes.\n",
      "Found 500 images belonging to 10 classes.\n",
      "<keras_preprocessing.image.directory_iterator.DirectoryIterator object at 0x000001FD2339FC08>\n",
      "<keras_preprocessing.image.directory_iterator.DirectoryIterator object at 0x000001FD234E0C48>\n"
     ]
    }
   ],
   "source": [
    "from tensorflow.keras.preprocessing.image import ImageDataGenerator\n",
    "test_datagen = ImageDataGenerator(rescale=1./255)\n",
    "X_test_itr=test_datagen.flow_from_directory(\n",
    "    'classes',\n",
    "    target_size=(28, 28),\n",
    "    batch_size=500,\n",
    "    color_mode='grayscale',\n",
    "    class_mode='binary')\n",
    "validation_generator = test_datagen.flow_from_directory(\n",
    "    'classes',\n",
    "    target_size=(28, 28),\n",
    "    batch_size=32,\n",
    "    color_mode='grayscale',\n",
    "    class_mode='binary')\n",
    "print(validation_generator)\n",
    "print(X_test_itr)"
   ]
  },
  {
   "cell_type": "code",
   "execution_count": 16,
   "metadata": {},
   "outputs": [],
   "source": [
    "X_test, X_test_L = X_test_itr.next()"
   ]
  },
  {
   "cell_type": "code",
   "execution_count": 17,
   "metadata": {},
   "outputs": [
    {
     "data": {
      "text/plain": [
       "(500, 28, 28, 1)"
      ]
     },
     "execution_count": 17,
     "metadata": {},
     "output_type": "execute_result"
    }
   ],
   "source": [
    "X_test.shape"
   ]
  },
  {
   "cell_type": "code",
   "execution_count": 18,
   "metadata": {},
   "outputs": [],
   "source": [
    "codes = encoder.predict(X_train)"
   ]
  },
  {
   "cell_type": "code",
   "execution_count": 19,
   "metadata": {},
   "outputs": [
    {
     "data": {
      "text/plain": [
       "(60000, 4, 4, 8)"
      ]
     },
     "execution_count": 19,
     "metadata": {},
     "output_type": "execute_result"
    }
   ],
   "source": [
    "codes.shape"
   ]
  },
  {
   "cell_type": "code",
   "execution_count": 20,
   "metadata": {},
   "outputs": [],
   "source": [
    "query_codes = encoder.predict(X_test)"
   ]
  },
  {
   "cell_type": "code",
   "execution_count": 21,
   "metadata": {},
   "outputs": [
    {
     "data": {
      "text/plain": [
       "(500, 4, 4, 8)"
      ]
     },
     "execution_count": 21,
     "metadata": {},
     "output_type": "execute_result"
    }
   ],
   "source": [
    "query_codes.shape"
   ]
  },
  {
   "cell_type": "code",
   "execution_count": 22,
   "metadata": {},
   "outputs": [
    {
     "name": "stdout",
     "output_type": "stream",
     "text": [
      "(60000, 128)\n",
      "(500, 128)\n"
     ]
    }
   ],
   "source": [
    "from sklearn.neighbors import NearestNeighbors\n",
    "n_neigh = 1\n",
    "codes = codes.reshape(-1, 4*4*8); print(codes.shape)\n",
    "query_codes = query_codes.reshape(-1, 4*4*8); print(query_codes.shape)"
   ]
  },
  {
   "cell_type": "code",
   "execution_count": 23,
   "metadata": {},
   "outputs": [],
   "source": [
    "#function to calculate euclidean distance\n",
    "# def euclidean_distance(a, b):\n",
    "#     return sqrt(sum((v1-v2)**2 for v1, v2 in zip(a,b)))"
   ]
  },
  {
   "cell_type": "code",
   "execution_count": 24,
   "metadata": {},
   "outputs": [],
   "source": [
    "nbrs = NearestNeighbors(n_neighbors=n_neigh).fit(codes)\n",
    "cs = []\n",
    "ed = []\n",
    "for i in range(500):\n",
    "    distances, indices = nbrs.kneighbors(np.array(query_codes[i].reshape(-1,128)))\n",
    "    closest_images = X_train[indices]\n",
    "    closest_images = closest_images.reshape(-1,28,28,1);\n",
    "    #print(closest_images.shape)\n",
    "    codes1 = encoder.predict(closest_images)\n",
    "    query_code1 = encoder.predict(X_test[i].reshape(1,28,28,1))\n",
    "    #print(query_code1.shape)\n",
    "    query_code1_temp = query_code1.reshape(128)\n",
    "    #print(query_code1_temp)\n",
    "    codes1_temp = codes1[0].reshape(128)\n",
    "    #print(codes1_temp.shape)\n",
    "    #print(type(codes1_temp))\n",
    "    cs.append(np.dot(codes1_temp, query_code1_temp) / (np.linalg.norm(codes1_temp) * np.linalg.norm(query_code1_temp)))\n",
    "    ed.append(np.linalg.norm(codes1_temp - query_code1_temp))"
   ]
  },
  {
   "cell_type": "code",
   "execution_count": 25,
   "metadata": {},
   "outputs": [],
   "source": [
    "# query_code1_temp\n",
    "# print(codes1_temp)"
   ]
  },
  {
   "cell_type": "code",
   "execution_count": 26,
   "metadata": {},
   "outputs": [
    {
     "name": "stdout",
     "output_type": "stream",
     "text": [
      "[0.9992554, 0.9972978, 0.9945206, 0.9989648, 0.9987856, 0.9981442, 0.9972508, 0.9975842, 0.99200964, 0.99131143, 0.9938617, 0.99797654, 0.9939517, 0.9969734, 0.99435276, 0.9967792, 0.99631226, 0.9989326, 0.9991894, 0.9978263, 0.99915266, 0.994236, 0.993302, 0.99611473, 0.9966247, 0.99818647, 0.99835825, 0.9952413, 0.9980842, 0.998175, 0.99826837, 0.9985642, 0.9978501, 0.9982111, 0.99820536, 0.99180484, 0.99838644, 0.9978395, 0.9953052, 0.9956685, 0.99542874, 0.9930394, 0.99870926, 0.9981498, 0.9970625, 0.99604017, 0.9974163, 0.99240667, 0.9899623, 0.9975716, 0.9985788, 0.99085796, 0.9980691, 0.99699116, 0.9975748, 0.9976283, 0.9972555, 0.9984121, 0.99381316, 0.99336153, 0.9978093, 0.99719507, 0.9988686, 0.99808174, 0.97648895, 0.9974944, 0.9971638, 0.9976537, 0.9987202, 0.9973135, 0.99758554, 0.9956108, 0.99658, 0.9988671, 0.9864653, 0.9974415, 0.99773836, 0.99266714, 0.9953491, 0.9966025, 0.9924313, 0.97473633, 0.9981988, 0.9951169, 0.9973994, 0.9977059, 0.9979221, 0.98685163, 0.99743927, 0.99112445, 0.99137264, 0.9975336, 0.99703616, 0.9970752, 0.99851465, 0.99145305, 0.9960757, 0.99855316, 0.9951632, 0.9991728, 0.9976758, 0.9977499, 0.9990803, 0.99671304, 0.99910635, 0.9987065, 0.99054617, 0.9968499, 0.988332, 0.9959022, 0.9985339, 0.9979754, 0.99477017, 0.9915944, 0.9974998, 0.99547154, 0.9941407, 0.99661785, 0.9974567, 0.99750555, 0.99825835, 0.99774796, 0.99883074, 0.99690956, 0.99301153, 0.9992801, 0.9951942, 0.9983741, 0.9992833, 0.99689126, 0.9983139, 0.99623305, 0.99871904, 0.997458, 0.9982331, 0.9975036, 0.98506117, 0.99812925, 0.9964007, 0.9951486, 0.99718696, 0.99514484, 0.99740237, 0.99891, 0.99812424, 0.9907084, 0.99739814, 0.99634373, 0.9891063, 0.99837285, 0.99687344, 0.9959814, 0.99202377, 0.99709684, 0.9931048, 0.9955739, 0.9978838, 0.98100984, 0.99367887, 0.99675703, 0.9987858, 0.99724543, 0.9945839, 0.9991755, 0.9900674, 0.9990685, 0.9962764, 0.99643034, 0.9974414, 0.9982717, 0.99793684, 0.99260664, 0.99682266, 0.99550766, 0.99786985, 0.9981552, 0.99782133, 0.9984311, 0.99493164, 0.99800384, 0.9967071, 0.9983986, 0.9980752, 0.9984212, 0.9992831, 0.99840456, 0.9977303, 0.9976189, 0.9985313, 0.99686754, 0.988486, 0.9955731, 0.99919057, 0.99852496, 0.9940286, 0.9985678, 0.99816686, 0.9915574, 0.998451, 0.99812156, 0.99164844, 0.985429, 0.99844164, 0.998065, 0.9986756, 0.9979609, 0.997674, 0.9994369, 0.9957545, 0.99904287, 0.99161786, 0.99693394, 0.9937996, 0.9977765, 0.99868417, 0.9976324, 0.9986736, 0.98873204, 0.9961739, 0.9979283, 0.9957062, 0.99808127, 0.9969543, 0.9986414, 0.9960773, 0.99741316, 0.9881725, 0.9924089, 0.97763175, 0.9971113, 0.9929398, 0.99886507, 0.9980652, 0.9976815, 0.99888563, 0.99854356, 0.99564123, 0.9924688, 0.9918679, 0.9979661, 0.99384975, 0.99775785, 0.9984661, 0.9982673, 0.99618006, 0.99745387, 0.9958802, 0.997967, 0.9940585, 0.99567705, 0.99238753, 0.9974462, 0.99595046, 0.99749476, 0.9907304, 0.9972256, 0.99790484, 0.99747473, 0.99766606, 0.9973802, 0.9982824, 0.99265826, 0.999012, 0.9959369, 0.99481094, 0.99880564, 0.9973188, 0.9973664, 0.99301744, 0.996728, 0.9882199, 0.990464, 0.99713737, 0.9962543, 0.99533224, 0.9983393, 0.99718416, 0.9943544, 0.9956484, 0.9963031, 0.99674857, 0.99758327, 0.9968204, 0.9971935, 0.99888337, 0.99650836, 0.99891925, 0.99327385, 0.99638605, 0.99880046, 0.9980684, 0.9981611, 0.99733245, 0.9980278, 0.9982808, 0.99705017, 0.9980486, 0.9969982, 0.99746007, 0.9986992, 0.99702334, 0.9975503, 0.99762136, 0.996414, 0.9850292, 0.9983314, 0.9973973, 0.99910986, 0.9978795, 0.996725, 0.99738556, 0.9906177, 0.9969368, 0.99448377, 0.99766684, 0.99697405, 0.9991612, 0.9975579, 0.9976108, 0.99230546, 0.99889773, 0.9981235, 0.9976414, 0.99774575, 0.9917528, 0.992531, 0.99821544, 0.9981691, 0.9994544, 0.99830365, 0.9991078, 0.9977311, 0.9965238, 0.9977916, 0.99727076, 0.99741316, 0.99024856, 0.99911964, 0.9938492, 0.98859084, 0.9969587, 0.99775714, 0.9992203, 0.997703, 0.9977169, 0.9904323, 0.99768066, 0.9994785, 0.99291134, 0.9987077, 0.9993568, 0.9950766, 0.9980999, 0.9956355, 0.9951195, 0.99479616, 0.9934952, 0.9978076, 0.9959383, 0.99503833, 0.99335104, 0.99445367, 0.9956892, 0.99571234, 0.996522, 0.99860364, 0.9988837, 0.99857444, 0.99451536, 0.9906255, 0.9927509, 0.9905264, 0.9972381, 0.9979344, 0.99576664, 0.9959336, 0.99651957, 0.9947016, 0.99733204, 0.99790484, 0.99876064, 0.99679875, 0.99499005, 0.99887514, 0.9975184, 0.9955325, 0.997116, 0.9988406, 0.9959362, 0.99150974, 0.99389255, 0.9959764, 0.9972239, 0.9983442, 0.99877197, 0.9876268, 0.99891657, 0.9961884, 0.99839103, 0.998784, 0.99125576, 0.99765, 0.993836, 0.9986968, 0.9973746, 0.9957085, 0.9957033, 0.99559575, 0.9983772, 0.9897021, 0.99814, 0.99123645, 0.9989054, 0.99818814, 0.99686205, 0.98377216, 0.9957538, 0.9987153, 0.99810696, 0.996538, 0.9989785, 0.9902397, 0.9983092, 0.997633, 0.992572, 0.9963051, 0.9969317, 0.99218386, 0.9959547, 0.9993224, 0.9981651, 0.99854726, 0.9958843, 0.99923414, 0.9928461, 0.9990291, 0.9976172, 0.9954157, 0.9936164, 0.9946432, 0.990284, 0.99689525, 0.99782205, 0.9944988, 0.9982183, 0.99699605, 0.99780643, 0.9976888, 0.9986047, 0.9984297, 0.9971686, 0.99913704, 0.9978521, 0.9981427, 0.99667174, 0.9987293, 0.9992436, 0.9964546, 0.9951509, 0.99555933, 0.9951555, 0.9959249, 0.9927192, 0.9979599, 0.9977377, 0.9977369, 0.99454457, 0.99868715, 0.99867797, 0.99675924, 0.99290186, 0.99712265, 0.9965149, 0.99426204, 0.9982868, 0.99331033, 0.9973812, 0.99375015, 0.9911975, 0.99875313, 0.99492246, 0.9929423, 0.998049, 0.9991119, 0.9988796, 0.9960412, 0.99728847, 0.99649185, 0.9976525, 0.9981772, 0.99884963, 0.9986018, 0.98916996, 0.99858904, 0.9959008, 0.9970356, 0.99830174, 0.9924867, 0.9952745, 0.99870896]\n",
      "0.9961682332754135\n"
     ]
    }
   ],
   "source": [
    "print(cs)\n",
    "print(sum(cs)/len(cs))"
   ]
  },
  {
   "cell_type": "code",
   "execution_count": 27,
   "metadata": {},
   "outputs": [
    {
     "name": "stdout",
     "output_type": "stream",
     "text": [
      "[0.9379134, 1.4740623, 1.5278445, 0.95978594, 1.161313, 1.0406568, 1.709637, 1.5915484, 1.8227338, 2.2711303, 1.8161194, 1.1339836, 1.8796811, 1.7712125, 2.0137422, 0.97424614, 1.7468705, 0.86628854, 0.9643784, 1.2325917, 1.0712061, 2.349603, 2.203097, 1.2826216, 1.5049968, 1.2284833, 1.1384952, 1.9950213, 1.291977, 1.0683604, 1.4029468, 1.1844312, 1.4393873, 1.4025685, 1.2783276, 2.0621898, 1.1553955, 1.4118354, 1.7679033, 1.4823215, 2.0344403, 2.240429, 1.252208, 1.4748976, 1.5048141, 1.577304, 1.4877901, 1.9693328, 2.1972387, 1.4498969, 1.2292638, 2.8693347, 1.4692013, 1.7044394, 1.2845763, 1.4440062, 1.8366895, 1.2487116, 1.8318459, 2.1532815, 1.2895101, 1.4832723, 0.9911993, 1.4807546, 4.056384, 1.3293396, 1.7179946, 1.2307351, 0.9419636, 1.4311101, 1.434965, 2.0481644, 1.7055552, 0.9774106, 3.0329256, 1.200859, 1.1412764, 2.702597, 1.8330061, 1.8279521, 2.2575338, 3.394099, 1.4408123, 2.358427, 1.6649626, 1.7971917, 1.3513193, 2.4077094, 1.0736643, 2.0418615, 1.9366364, 1.6069642, 1.842933, 1.3970859, 1.1257648, 3.108211, 2.0510426, 1.1940622, 2.0652034, 1.0032312, 1.4402928, 1.017273, 0.98914987, 1.4705323, 1.0105925, 1.1020348, 2.9972808, 1.4720438, 2.2145288, 1.5448122, 1.3368459, 1.1556561, 1.5809294, 2.2347794, 1.4029346, 1.6301992, 1.5716264, 1.6190943, 1.7513462, 1.2279686, 1.4407529, 1.8397374, 0.84044933, 1.3587414, 1.8722693, 0.8931221, 1.671568, 1.0954558, 0.85869265, 1.7288365, 1.1722641, 2.0083587, 1.2663598, 1.4910779, 1.2042394, 1.3533813, 2.721902, 1.4044282, 1.4331173, 1.8296643, 1.8725045, 1.9902526, 1.4062527, 1.1374395, 1.1814923, 2.1316125, 1.5529497, 1.4751087, 2.325653, 1.12508, 1.2866967, 1.739033, 2.1139026, 1.318847, 2.1515236, 1.5488613, 1.3775433, 4.118688, 2.591981, 1.954068, 1.0400728, 1.5560168, 2.3329768, 0.7905061, 3.4704053, 0.89635706, 1.5672926, 1.4159751, 1.6830592, 1.4420646, 1.3859276, 2.7702982, 1.4639361, 1.5581617, 1.3405533, 1.2979571, 1.2193822, 1.0033102, 1.3833152, 1.0658736, 1.4554049, 1.1940911, 1.0960742, 1.3557645, 0.7594661, 1.100884, 1.3544173, 1.557794, 1.1302123, 1.9017763, 2.6897366, 2.1638122, 1.0618837, 1.0986171, 1.8274608, 0.9584768, 1.2352383, 2.5255249, 1.3068053, 1.145073, 2.7422092, 2.9897208, 1.1568432, 1.5817324, 0.9033404, 1.18637, 1.5592704, 0.6797691, 1.4382445, 0.7905633, 2.2229364, 1.4100124, 1.7516732, 1.6095527, 1.2415206, 1.3511413, 0.8975046, 2.813462, 1.5520617, 1.4400008, 1.5888997, 1.4777161, 1.6432171, 1.0830746, 1.591522, 1.3584331, 2.4964085, 2.4666574, 3.527422, 1.8435988, 2.31375, 0.9260487, 1.6554655, 1.5676707, 1.1677454, 0.8838359, 1.7509781, 2.7142172, 2.2440155, 1.05196, 2.0828283, 1.387969, 1.2646617, 1.2724783, 1.8369641, 1.3373498, 1.167751, 1.4357065, 1.9603921, 1.2992003, 1.8354118, 1.7258085, 1.410925, 1.3752812, 2.4058077, 1.6857431, 1.4112229, 1.6861683, 1.3326716, 1.7584158, 1.3173152, 2.5559597, 1.119739, 1.4031363, 1.8703402, 1.0624979, 1.6946265, 1.7477621, 2.1188617, 1.9968594, 2.5045464, 2.7711823, 1.440739, 1.7182313, 1.7457488, 1.6755788, 1.6715902, 1.6283969, 2.2868805, 1.8118635, 1.2032771, 1.358218, 1.6251384, 1.6527879, 0.94247985, 1.7766501, 0.9574275, 2.1840553, 1.6555356, 1.059633, 1.4205033, 1.312134, 1.4018749, 1.3661377, 0.8737028, 1.5612042, 0.9561543, 1.763776, 1.4482918, 1.0881205, 1.3574946, 1.2234975, 1.4387792, 1.8707222, 3.5406003, 1.3321216, 1.3310285, 0.89491165, 1.5516303, 1.7469091, 1.1073978, 2.495403, 1.7238561, 1.7455753, 1.5659835, 1.5735042, 0.8473798, 1.0903121, 1.617827, 2.249504, 0.9565391, 1.005365, 1.6643367, 1.3711196, 2.6596255, 2.308221, 1.445583, 1.231577, 0.83453435, 1.1019332, 0.89445263, 1.5205308, 1.5435597, 1.5548136, 1.3807163, 1.1193138, 2.889111, 0.8674596, 1.893792, 2.0149987, 1.6437656, 1.486975, 0.9387406, 1.4809524, 1.5329795, 2.907401, 1.5778074, 0.9231392, 1.9874649, 0.9275624, 0.93421966, 1.8974026, 1.1786782, 1.7442847, 1.3632541, 1.8896062, 2.444661, 1.4339501, 2.1647222, 1.8380097, 1.8154312, 2.1019785, 2.134178, 1.8232745, 1.6269002, 0.9571726, 0.8046734, 1.2084744, 2.268058, 2.9474423, 1.864338, 2.1368287, 1.5237705, 1.4784746, 1.8830343, 1.5571507, 1.6707572, 1.5923942, 1.1704931, 1.2541325, 0.9204462, 1.1626353, 2.7571228, 1.048573, 1.4607033, 1.7322162, 1.5496078, 1.3517929, 1.8168143, 2.3005285, 2.2747283, 1.6458254, 1.5367954, 1.2676759, 0.9473862, 3.0708952, 1.1129212, 1.9490429, 1.1965877, 0.9165944, 2.662008, 1.5356611, 2.0965996, 1.1932065, 1.950976, 1.9055977, 1.4936107, 2.1394212, 1.1630939, 2.2125235, 1.2483252, 1.9222984, 1.077229, 1.3776413, 1.6506883, 2.861648, 1.5977495, 1.305443, 1.2416475, 1.7710774, 0.8904478, 1.8336732, 1.1777818, 1.2992238, 2.0168238, 1.6254694, 1.6972682, 2.032341, 1.6169928, 0.9477039, 1.2381428, 1.310963, 1.7753032, 0.9922301, 2.0003338, 0.8936339, 1.3003349, 1.5830212, 1.919651, 1.4468952, 2.5926168, 1.2646911, 1.3175331, 2.3541024, 1.2456896, 1.3394651, 1.5791411, 1.7537975, 1.3431158, 1.0527121, 1.788826, 1.0180876, 1.2331176, 1.3767263, 1.3579254, 1.0969862, 0.8586382, 1.8487834, 1.9786001, 1.588736, 2.0001104, 1.6225818, 1.9944403, 1.5950463, 1.2692457, 1.3211259, 1.8456451, 0.9561703, 0.9494574, 1.7992077, 1.7456696, 1.64849, 1.4991056, 1.8299453, 1.2821133, 2.299901, 1.2930052, 2.2102034, 2.0638614, 1.1423099, 2.4255784, 2.1184251, 1.3850821, 0.9868448, 1.0845424, 1.3740294, 1.3925818, 1.4531685, 1.6316824, 1.4650636, 0.8898568, 1.1332558, 2.689183, 1.201067, 1.8837495, 1.4184783, 1.0968773, 2.0988064, 1.79354, 0.9798231]\n",
      "1.5995181131362914\n"
     ]
    }
   ],
   "source": [
    "print(ed)\n",
    "print(sum(ed)/len(ed))"
   ]
  },
  {
   "cell_type": "code",
   "execution_count": 28,
   "metadata": {},
   "outputs": [
    {
     "name": "stdout",
     "output_type": "stream",
     "text": [
      "7.0\n",
      "[6. 9. 0. 4. 2. 1. 8. 4. 3. 5. 6. 7. 8. 8. 9. 6. 9. 7. 4. 2. 2. 6. 5. 0.\n",
      " 9. 1. 0. 9. 4. 1. 0. 0. 8. 3. 1. 8. 3. 0. 0. 2. 9. 2. 2. 3. 9. 6. 9. 6.\n",
      " 0. 0. 4. 7. 6. 9. 6. 7. 2. 1. 6. 6. 7. 2. 7. 6. 0. 3. 3. 5. 1. 3. 6. 8.\n",
      " 6. 0. 8. 5. 6. 8. 3. 8. 9. 8. 0. 3. 7. 2. 0. 8. 6. 5. 0. 8. 6. 5. 3. 5.\n",
      " 4. 0. 5. 0. 7. 0. 2. 4. 4. 4. 6. 7. 5. 3. 6. 1. 4. 8. 9. 8. 5. 7. 6. 1.\n",
      " 4. 0. 1. 3. 8. 4. 4. 8. 1. 3. 7. 9. 2. 9. 9. 1. 8. 2. 9. 5. 2. 3. 8. 2.\n",
      " 4. 7. 9. 5. 5. 3. 3. 6. 5. 3. 5. 5. 7. 6. 3. 2. 3. 8. 9. 1. 0. 1. 7. 3.\n",
      " 3. 2. 3. 9. 1. 3. 6. 9. 4. 7. 2. 7. 7. 3. 7. 3. 1. 7. 8. 3. 3. 9. 0. 9.\n",
      " 0. 1. 5. 4. 7. 5. 4. 3. 6. 5. 3. 6. 1. 9. 2. 1. 2. 1. 3. 1. 7. 0. 0. 2.\n",
      " 1. 5. 6. 4. 7. 6. 1. 7. 5. 1. 5. 5. 5. 4. 8. 1. 9. 4. 0. 1. 6. 8. 5. 4.\n",
      " 5. 7. 6. 7. 8. 4. 6. 3. 5. 2. 4. 4. 7. 2. 0. 4. 9. 9. 4. 0. 2. 9. 0. 2.\n",
      " 5. 4. 0. 7. 5. 8. 5. 5. 3. 8. 0. 0. 0. 3. 8. 8. 3. 2. 8. 9. 3. 8. 1. 5.\n",
      " 8. 4. 9. 9. 6. 3. 6. 9. 6. 3. 1. 9. 2. 2. 4. 8. 2. 2. 9. 1. 0. 4. 2. 6.\n",
      " 9. 7. 8. 4. 1. 2. 2. 4. 1. 0. 4. 7. 4. 5. 4. 4. 0. 1. 1. 9. 7. 9. 7. 0.\n",
      " 5. 1. 7. 7. 8. 7. 2. 1. 4. 9. 3. 2. 5. 1. 1. 9. 7. 3. 0. 5. 5. 3. 8. 2.\n",
      " 2. 8. 8. 2. 9. 1. 1. 7. 4. 0. 5. 5. 2. 1. 8. 3. 5. 5. 1. 9. 1. 0. 6. 4.\n",
      " 2. 2. 5. 8. 8. 5. 8. 3. 5. 9. 1. 8. 4. 7. 0. 7. 8. 6. 0. 4. 0. 7. 2. 8.\n",
      " 4. 8. 9. 2. 1. 9. 8. 5. 0. 7. 0. 9. 1. 6. 6. 7. 0. 9. 9. 7. 7. 6. 4. 0.\n",
      " 4. 6. 6. 1. 7. 2. 6. 3. 5. 6. 9. 8. 3. 7. 0. 6. 4. 3. 6. 4. 3. 7. 6. 0.\n",
      " 1. 4. 8. 6. 3. 1. 5. 2. 3. 9. 2. 1. 1. 2. 6. 9. 3. 8. 9. 5. 1. 6. 5. 4.\n",
      " 8. 0. 7. 6. 4. 5. 7. 0. 3. 0. 2. 2. 2. 6. 8. 2. 7. 4. 9. 7.]\n"
     ]
    },
    {
     "data": {
      "image/png": "[encoded data removed]",
      "text/plain": [
       "<Figure size 432x288 with 1 Axes>"
      ]
     },
     "metadata": {
      "needs_background": "light"
     },
     "output_type": "display_data"
    }
   ],
   "source": [
    "print(X_test_L[499])\n",
    "plt.imshow(X_test[499].reshape(28,28))\n",
    "print(X_test_L)"
   ]
  },
  {
   "cell_type": "code",
   "execution_count": 29,
   "metadata": {},
   "outputs": [
    {
     "name": "stdout",
     "output_type": "stream",
     "text": [
      "(28, 28, 1)\n"
     ]
    },
    {
     "data": {
      "image/png": "[encoded data removed]",
      "text/plain": [
       "<Figure size 1440x576 with 1 Axes>"
      ]
     },
     "metadata": {
      "needs_background": "light"
     },
     "output_type": "display_data"
    }
   ],
   "source": [
    "plt.figure(figsize=(20, 8))\n",
    "for i in range(n_neigh):\n",
    "    # display original\n",
    "    ax = plt.subplot(1, n_neigh, i+1)\n",
    "    plt.imshow(closest_images[i].reshape(28, 28))\n",
    "    print(closest_images[i].shape)\n",
    "    #plt.gray()\n",
    "    ax.get_xaxis().set_visible(False)\n",
    "    ax.get_yaxis().set_visible(False)\n",
    "    \n",
    "plt.show()"
   ]
  },
  {
   "cell_type": "code",
   "execution_count": null,
   "metadata": {},
   "outputs": [],
   "source": []
  }
 ],
 "metadata": {
  "kernelspec": {
   "display_name": "Python 3",
   "language": "python",
   "name": "python3"
  },
  "language_info": {
   "codemirror_mode": {
    "name": "ipython",
    "version": 3
   },
   "file_extension": ".py",
   "mimetype": "text/x-python",
   "name": "python",
   "nbconvert_exporter": "python",
   "pygments_lexer": "ipython3",
   "version": "3.7.4"
  }
 },
 "nbformat": 4,
 "nbformat_minor": 2
}
